{
 "cells": [
  {
   "cell_type": "code",
   "execution_count": 1,
   "id": "temporal-diagram",
   "metadata": {},
   "outputs": [],
   "source": [
    "import pandas as pd\n"
   ]
  },
  {
   "cell_type": "code",
   "execution_count": 3,
   "id": "adult-price",
   "metadata": {},
   "outputs": [],
   "source": [
    "d = pd.read_csv(\"\\\\Downloads\\\\H1.csv\")\n",
    "\n"
   ]
  },
  {
   "cell_type": "code",
   "execution_count": 15,
   "id": "ordinary-vanilla",
   "metadata": {},
   "outputs": [],
   "source": [
    "d['date']=d['ArrivalDateYear'].astype('str')+d['ArrivalDateWeekNumber'].astype('str')\n",
    "d = d.groupby( 'date')['IsCanceled'].sum().copy()\n",
    "\n",
    "d.to_csv('H1b.csv')"
   ]
  },
  {
   "cell_type": "code",
   "execution_count": null,
   "id": "unlike-ecology",
   "metadata": {},
   "outputs": [],
   "source": []
  },
  {
   "cell_type": "code",
   "execution_count": null,
   "id": "greenhouse-influence",
   "metadata": {},
   "outputs": [],
   "source": []
  }
 ],
 "metadata": {
  "kernelspec": {
   "display_name": "Python 3",
   "language": "python",
   "name": "python3"
  },
  "language_info": {
   "codemirror_mode": {
    "name": "ipython",
    "version": 3
   },
   "file_extension": ".py",
   "mimetype": "text/x-python",
   "name": "python",
   "nbconvert_exporter": "python",
   "pygments_lexer": "ipython3",
   "version": "3.8.8"
  }
 },
 "nbformat": 4,
 "nbformat_minor": 5
}
